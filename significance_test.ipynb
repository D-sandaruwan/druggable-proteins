{
 "cells": [
  {
   "cell_type": "code",
   "execution_count": 2,
   "metadata": {},
   "outputs": [
    {
     "name": "stdout",
     "output_type": "stream",
     "text": [
      "statistic=14.000, p-value=0.720\n"
     ]
    }
   ],
   "source": [
    "from statsmodels.stats.contingency_tables import mcnemar\n",
    "import pandas as pd\n",
    "import numpy as np\n",
    "\n",
    "# load predictions\n",
    "predictions = pd.read_csv('predictions.csv')\n",
    "\n",
    "y_pred1 = predictions['predictions_without_feature_selection']\n",
    "y_pred2 = predictions['predictions_with_feature_selection']\n",
    "y_test = predictions['label']\n",
    "\n",
    "# Assume y_test is your ground truth, and y_pred1, y_pred2 are your model predictions\n",
    "# Also assuming your classes are 0 and 1\n",
    "\n",
    "# Convert your predictions to boolean correct/incorrect\n",
    "y_pred1_correct = np.equal(y_pred1, y_test)\n",
    "y_pred2_correct = np.equal(y_pred2, y_test)\n",
    "\n",
    "# Build the contingency table\n",
    "table = [[np.sum((y_pred1_correct == True) & (y_pred2_correct == True)),\n",
    "          np.sum((y_pred1_correct == True) & (y_pred2_correct == False))],\n",
    "         [np.sum((y_pred1_correct == False) & (y_pred2_correct == True)),\n",
    "          np.sum((y_pred1_correct == False) & (y_pred2_correct == False))]]\n",
    "\n",
    "# Perform McNemar's test\n",
    "result = mcnemar(table, exact=True)\n",
    "\n",
    "# Print the result\n",
    "print('statistic=%.3f, p-value=%.3f' % (result.statistic, result.pvalue))"
   ]
  }
 ],
 "metadata": {
  "kernelspec": {
   "display_name": "druggable_proteins",
   "language": "python",
   "name": "python3"
  },
  "language_info": {
   "codemirror_mode": {
    "name": "ipython",
    "version": 3
   },
   "file_extension": ".py",
   "mimetype": "text/x-python",
   "name": "python",
   "nbconvert_exporter": "python",
   "pygments_lexer": "ipython3",
   "version": "3.10.10"
  },
  "orig_nbformat": 4
 },
 "nbformat": 4,
 "nbformat_minor": 2
}
