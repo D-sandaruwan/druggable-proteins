{
 "cells": [
  {
   "cell_type": "code",
   "execution_count": 51,
   "metadata": {},
   "outputs": [
    {
     "name": "stderr",
     "output_type": "stream",
     "text": [
      "/home/darshana/.local/lib/python3.10/site-packages/sklearn/utils/validation.py:1143: DataConversionWarning: A column-vector y was passed when a 1d array was expected. Please change the shape of y to (n_samples, ), for example using ravel().\n",
      "  y = column_or_1d(y, warn=True)\n",
      "/tmp/ipykernel_63817/3864852222.py:44: SettingWithCopyWarning: \n",
      "A value is trying to be set on a copy of a slice from a DataFrame.\n",
      "Try using .loc[row_indexer,col_indexer] = value instead\n",
      "\n",
      "See the caveats in the documentation: https://pandas.pydata.org/pandas-docs/stable/user_guide/indexing.html#returning-a-view-versus-a-copy\n",
      "  selected_features_df['label'] = y_train\n"
     ]
    }
   ],
   "source": [
    "import pandas as pd\n",
    "import numpy as np\n",
    "from sklearn.model_selection import StratifiedKFold, cross_val_score\n",
    "from sklearn.linear_model import LogisticRegression\n",
    "from sklearn.svm import SVC\n",
    "from xgboost import XGBClassifier\n",
    "from lightgbm import LGBMClassifier\n",
    "from sklearn.metrics import confusion_matrix, matthews_corrcoef, recall_score, precision_score, f1_score\n",
    "from scipy.stats import pearsonr\n",
    "from sklearn.feature_selection import SelectKBest, f_classif\n",
    "\n",
    "feature_types = ['AAC', 'APAAC', 'CTD', 'DPC', 'PAAC']\n",
    "\n",
    "data_dir = '/home/darshana/Projects/druggable_proteins/processed_dataset'\n",
    "feature_engineered_data_dir = '/home/darshana/Projects/druggable_proteins/feature_engineered_dataset'\n",
    "\n",
    "# Concatenate features from different types\n",
    "train_dataframes = []\n",
    "test_dataframes = []\n",
    "\n",
    "for feature_type in feature_types:\n",
    "    train_data = pd.read_csv(f'{data_dir}/TR_{feature_type}.csv')\n",
    "    test_data = pd.read_csv(f'{data_dir}/TS_{feature_type}.csv')\n",
    "    train_dataframes.append(train_data.set_index('id'))\n",
    "    test_dataframes.append(test_data.set_index('id'))\n",
    "\n",
    "# concat dataframes based on equal column ids\n",
    "df_train = pd.concat(train_dataframes, axis=1, join='inner')\n",
    "df_test = pd.concat(test_dataframes, axis=1, join='inner')\n",
    "X_train = df_train.drop(columns=['label'], axis=1)\n",
    "y_train = df_train['label'].loc[:, ~df_train['label'].columns.duplicated()]\n",
    "\n",
    "# Initialize SelectKBest class\n",
    "selector = SelectKBest(f_classif, k=100)\n",
    "\n",
    "# Fit and transform the data\n",
    "X_train_new = selector.fit_transform(X_train, y_train)\n",
    "\n",
    "# Get columns to keep\n",
    "cols = selector.get_support(indices=True)\n",
    "\n",
    "# Create new dataframe with only desired columns, or overwrite existing\n",
    "selected_features_df = X_train.iloc[:,cols]\n",
    "selected_features_df['label'] = y_train\n",
    "selected_features_df.reset_index(inplace=True)\n",
    "df_test.reset_index(inplace=True)\n",
    "df_test = df_test[selected_features_df.columns].loc[:, ~df_test[selected_features_df.columns].columns.duplicated()]\n",
    "\n",
    "# Save the dataframe\n",
    "selected_features_df.to_csv(f'{feature_engineered_data_dir}/TR_selected_features_all_best100.csv', index=False)\n",
    "df_test.to_csv(f'{feature_engineered_data_dir}/TS_selected_features_all_best100.csv', index=False)"
   ]
  }
 ],
 "metadata": {
  "kernelspec": {
   "display_name": "druggable_proteins",
   "language": "python",
   "name": "python3"
  },
  "language_info": {
   "name": "python",
   "version": "3.10.10"
  },
  "orig_nbformat": 4
 },
 "nbformat": 4,
 "nbformat_minor": 2
}
